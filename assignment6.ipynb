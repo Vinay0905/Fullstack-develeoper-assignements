{
 "cells": [
  {
   "cell_type": "code",
   "execution_count": 3,
   "id": "94792ded",
   "metadata": {},
   "outputs": [
    {
     "name": "stdout",
     "output_type": "stream",
     "text": [
      "['False', 'None', 'True', 'and', 'as', 'assert', 'async', 'await', 'break', 'class', 'continue', 'def', 'del', 'elif', 'else', 'except', 'finally', 'for', 'from', 'global', 'if', 'import', 'in', 'is', 'lambda', 'nonlocal', 'not', 'or', 'pass', 'raise', 'return', 'try', 'while', 'with', 'yield']\n"
     ]
    }
   ],
   "source": [
    "#1.Keywords in Python are reserved words that have specific meanings and purposes within the language. These words cannot be used as identifiers (variable names, function names, etc.) because they are already predefined and serve specific roles in the Python syntax\n",
    "\n",
    "import keyword\n",
    "\n",
    "keywords = keyword.kwlist\n",
    "print(keywords)\n",
    "\n"
   ]
  },
  {
   "cell_type": "code",
   "execution_count": null,
   "id": "61138b9a",
   "metadata": {},
   "outputs": [],
   "source": [
    "#2.\n",
    "        1. Variable Names\n",
    "        2.Avoid keywords\n",
    "        3.No special charecters\n",
    "        4.No Spaces"
   ]
  },
  {
   "cell_type": "code",
   "execution_count": null,
   "id": "b87522c7",
   "metadata": {},
   "outputs": [],
   "source": [
    "#3.       1.Use descriptive names\n",
    "          2. Use camel case or underscores\n",
    "          3.Constants in Uppercase\n",
    "          4. Avoid Ambiguos names"
   ]
  },
  {
   "cell_type": "code",
   "execution_count": 5,
   "id": "9279288f",
   "metadata": {},
   "outputs": [],
   "source": [
    "#4.Syntax Error will occur.\n"
   ]
  },
  {
   "cell_type": "code",
   "execution_count": null,
   "id": "eae28530",
   "metadata": {},
   "outputs": [],
   "source": [
    "#5.The def keyword in Python is used to define user-defined functions. Functions are blocks of reusable code that perform a specific task. Defining functions allows you to organize your code into logical units, making it easier to read, write, and maintain."
   ]
  },
  {
   "cell_type": "code",
   "execution_count": null,
   "id": "07486471",
   "metadata": {},
   "outputs": [],
   "source": [
    "#6. Used as a escape key."
   ]
  },
  {
   "cell_type": "code",
   "execution_count": null,
   "id": "695da2ce",
   "metadata": {},
   "outputs": [],
   "source": [
    "#7. \n",
    "        (i) Homogeneous list: A homogeneous list is a list that contains elements of the same data type. In Python, lists can hold elements of different types, but a homogeneous list will only contain elements of a single type.\n",
    "        (ii) Heterogeneous set: A heterogeneous set is a set that contains elements of different data types. In Python, sets can hold elements of various types.\n",
    "        (iii) Homogeneous tuple: A homogeneous tuple is a tuple that contains elements of the same data type. Similar to lists, tuples can also hold elements of different types, but a homogeneous tuple will only contain elements of a single type"
   ]
  },
  {
   "cell_type": "code",
   "execution_count": null,
   "id": "6cf40702",
   "metadata": {},
   "outputs": [],
   "source": [
    "#8.\n",
    "    Immutable datatypes cant be changed.\n",
    "\tMutable datatypes can be changed and modified "
   ]
  },
  {
   "cell_type": "code",
   "execution_count": 8,
   "id": "6e3bc75a",
   "metadata": {},
   "outputs": [
    {
     "name": "stdout",
     "output_type": "stream",
     "text": [
      "*\n",
      "***\n",
      "*****\n"
     ]
    }
   ],
   "source": [
    "#9.\n",
    "rows = 3  \n",
    "for i in range(1, rows + 1):\n",
    "    print('*' * (2 * i - 1))"
   ]
  },
  {
   "cell_type": "code",
   "execution_count": 10,
   "id": "32638ebe",
   "metadata": {},
   "outputs": [
    {
     "name": "stdout",
     "output_type": "stream",
     "text": [
      "|||||\n",
      "||||\n",
      "|||\n",
      "||\n",
      "|\n"
     ]
    }
   ],
   "source": [
    "#10.\n",
    "rows = 5\n",
    "i = rows\n",
    "while i >= 1:\n",
    "    j = i\n",
    "    while j >= 1:\n",
    "        print(\"|\", end=\"\")\n",
    "        j -= 1\n",
    "    print()\n",
    "    i -= 1\n"
   ]
  },
  {
   "cell_type": "code",
   "execution_count": null,
   "id": "3a5d66f8",
   "metadata": {},
   "outputs": [],
   "source": []
  }
 ],
 "metadata": {
  "kernelspec": {
   "display_name": "Python 3 (ipykernel)",
   "language": "python",
   "name": "python3"
  },
  "language_info": {
   "codemirror_mode": {
    "name": "ipython",
    "version": 3
   },
   "file_extension": ".py",
   "mimetype": "text/x-python",
   "name": "python",
   "nbconvert_exporter": "python",
   "pygments_lexer": "ipython3",
   "version": "3.11.3"
  }
 },
 "nbformat": 4,
 "nbformat_minor": 5
}
