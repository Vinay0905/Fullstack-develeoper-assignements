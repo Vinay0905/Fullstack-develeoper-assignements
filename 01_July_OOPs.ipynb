{
 "cells": [
  {
   "cell_type": "code",
   "execution_count": null,
   "id": "87920251",
   "metadata": {},
   "outputs": [],
   "source": [
    "#1.OOP is a programming paradigm that focuses on organizing code and data around the concept of \"objects\",which are instances of classes.\n",
    "    #1.Modularity and Reusability.\n",
    "    #2.Encapsulation.\n",
    "    #3.Abstraction.\n",
    "    #4.Inheritance.\n",
    "    #5.Polymorphism."
   ]
  },
  {
   "cell_type": "code",
   "execution_count": null,
   "id": "25298e4f",
   "metadata": {},
   "outputs": [],
   "source": [
    "#2.In Python, an object is a fundamental concept that represents a real-world entity, data structure, or instance of a class. Everything in Python, including data types, functions, and modules, is an object. \n"
   ]
  },
  {
   "cell_type": "code",
   "execution_count": null,
   "id": "b962af64",
   "metadata": {},
   "outputs": [],
   "source": [
    "#3.Classes are a fundamental concept in object-oriented programming (OOP) and provide a way to model real-world entities, encapsulate data, and define reusable behavior."
   ]
  },
  {
   "cell_type": "code",
   "execution_count": null,
   "id": "deb6072f",
   "metadata": {},
   "outputs": [],
   "source": [
    "#4.Attributes:\n",
    "    #Attributes are variables that hold data associated with instances of a class. They represent the properties or characteristics of objects. Attributes store information that helps define the state of an object. Each instance of a class can have its own unique set of attribute values.\n",
    "    \n",
    "   #Methods:\n",
    "    #Methods are functions defined within a class that determine the behavior or actions that objects created from the class can perform. Methods encapsulate functionality and operations related to the class. They can access and modify attributes and perform various computations."
   ]
  },
  {
   "cell_type": "code",
   "execution_count": null,
   "id": "ed287131",
   "metadata": {},
   "outputs": [],
   "source": [
    "#5.Class Variables:\n",
    "    #Class variables are variables that are shared among all instances (objects) of a class. They are defined within the class's body but outside any methods. Class variables are associated with the class itself, rather than with individual instances. They are the same for all instances of the class and can be accessed using the class name.\n",
    "   #Instance Variables:\n",
    "    #Instance variables are variables that are specific to each instance of a class. They are defined within the class's methods using the self keyword. Instance variables store data that is unique to each instance and can have different values for different instances of the class.\n",
    "    "
   ]
  },
  {
   "cell_type": "code",
   "execution_count": null,
   "id": "ad4c6b6a",
   "metadata": {},
   "outputs": [],
   "source": [
    "#6.In Python class methods, the self parameter refers to the instance of the class that the method is being called on. It is a convention and is not a reserved keyword, but using self as the name of the first parameter in instance methods is a common practice. "
   ]
  },
  {
   "cell_type": "code",
   "execution_count": 1,
   "id": "77a936f4",
   "metadata": {},
   "outputs": [
    {
     "name": "stdout",
     "output_type": "stream",
     "text": [
      "The Great Gatsby checked out successfully.\n",
      "The Great Gatsby returned successfully.\n",
      "The Great Gatsby checked out successfully.\n",
      "Book Information:\n",
      "Title: The Great Gatsby\n",
      "Author(s): F. Scott Fitzgerald\n",
      "ISBN: 978-3-16-148410-0\n",
      "Publication Year: 1925\n",
      "Available Copies: 4\n"
     ]
    }
   ],
   "source": [
    "#7.\n",
    "class Book:\n",
    "    def __init__(self, title, author, isbn, publication_year, available_copies):\n",
    "        self.title = title\n",
    "        self.author = author\n",
    "        self.isbn = isbn\n",
    "        self.publication_year = publication_year\n",
    "        self.available_copies = available_copies\n",
    "    \n",
    "    def check_out(self):\n",
    "        if self.available_copies > 0:\n",
    "            self.available_copies -= 1\n",
    "            print(f\"{self.title} checked out successfully.\")\n",
    "        else:\n",
    "            print(f\"No available copies of {self.title} for checkout.\")\n",
    "    \n",
    "    def return_book(self):\n",
    "        self.available_copies += 1\n",
    "        print(f\"{self.title} returned successfully.\")\n",
    "    \n",
    "    def display_book_info(self):\n",
    "        print(\"Book Information:\")\n",
    "        print(f\"Title: {self.title}\")\n",
    "        print(f\"Author(s): {self.author}\")\n",
    "        print(f\"ISBN: {self.isbn}\")\n",
    "        print(f\"Publication Year: {self.publication_year}\")\n",
    "        print(f\"Available Copies: {self.available_copies}\")\n",
    "\n",
    "book1 = Book(\"The Great Gatsby\", \"F. Scott Fitzgerald\", \"978-3-16-148410-0\", 1925, 5)\n",
    "\n",
    "book1.check_out()\n",
    "book1.return_book()\n",
    "book1.check_out()\n",
    "book1.display_book_info()\n"
   ]
  },
  {
   "cell_type": "code",
   "execution_count": 2,
   "id": "5f46bf33",
   "metadata": {},
   "outputs": [
    {
     "name": "stdout",
     "output_type": "stream",
     "text": [
      "Ticket 1 reserved successfully.\n",
      "Reservation for ticket 1 canceled.\n",
      "Ticket 1 reserved successfully.\n",
      "Ticket Information:\n",
      "Ticket ID: 1\n",
      "Event Name: Concert\n",
      "Event Date: 2023-08-25\n",
      "Venue: Music Hall\n",
      "Seat Number: A12\n",
      "Price: $50.0\n",
      "Reservation Status: Reserved\n"
     ]
    }
   ],
   "source": [
    "#8.\n",
    "class Ticket:\n",
    "    def __init__(self, ticket_id, event_name, event_date, venue, seat_number, price):\n",
    "        self.ticket_id = ticket_id\n",
    "        self.event_name = event_name\n",
    "        self.event_date = event_date\n",
    "        self.venue = venue\n",
    "        self.seat_number = seat_number\n",
    "        self.price = price\n",
    "        self.is_reserved = False\n",
    "    \n",
    "    def reserve_ticket(self):\n",
    "        if not self.is_reserved:\n",
    "            self.is_reserved = True\n",
    "            print(f\"Ticket {self.ticket_id} reserved successfully.\")\n",
    "        else:\n",
    "            print(f\"Ticket {self.ticket_id} is already reserved.\")\n",
    "    \n",
    "    def cancel_reservation(self):\n",
    "        if self.is_reserved:\n",
    "            self.is_reserved = False\n",
    "            print(f\"Reservation for ticket {self.ticket_id} canceled.\")\n",
    "        else:\n",
    "            print(f\"Ticket {self.ticket_id} is not reserved.\")\n",
    "    \n",
    "    def display_ticket_info(self):\n",
    "        print(\"Ticket Information:\")\n",
    "        print(f\"Ticket ID: {self.ticket_id}\")\n",
    "        print(f\"Event Name: {self.event_name}\")\n",
    "        print(f\"Event Date: {self.event_date}\")\n",
    "        print(f\"Venue: {self.venue}\")\n",
    "        print(f\"Seat Number: {self.seat_number}\")\n",
    "        print(f\"Price: ${self.price}\")\n",
    "        print(f\"Reservation Status: {'Reserved' if self.is_reserved else 'Not Reserved'}\")\n",
    "\n",
    "ticket1 = Ticket(1, \"Concert\", \"2023-08-25\", \"Music Hall\", \"A12\", 50.00)\n",
    "\n",
    "ticket1.reserve_ticket()\n",
    "ticket1.cancel_reservation()\n",
    "ticket1.reserve_ticket()\n",
    "ticket1.display_ticket_info()\n"
   ]
  },
  {
   "cell_type": "code",
   "execution_count": 3,
   "id": "a84c931f",
   "metadata": {},
   "outputs": [
    {
     "name": "stdout",
     "output_type": "stream",
     "text": [
      "Laptop added to the shopping cart.\n",
      "Headphones added to the shopping cart.\n",
      "Phone added to the shopping cart.\n",
      "Items in the shopping cart:\n",
      "Laptop\n",
      "Headphones\n",
      "Phone\n",
      "Headphones removed from the shopping cart.\n",
      "Items in the shopping cart:\n",
      "Laptop\n",
      "Phone\n",
      "Shopping cart cleared.\n",
      "Items in the shopping cart:\n"
     ]
    }
   ],
   "source": [
    "#9.\n",
    "class ShoppingCart:\n",
    "    def __init__(self):\n",
    "        self.items = []\n",
    "    def add_item(self, item):\n",
    "        self.items.append(item)\n",
    "        print(f\"{item} added to the shopping cart.\")\n",
    "    def remove_item(self, item):\n",
    "        if item in self.items:\n",
    "            self.items.remove(item)\n",
    "            print(f\"{item} removed from the shopping cart.\")\n",
    "        else:\n",
    "            print(f\"{item} is not in the shopping cart.\")\n",
    "    def view_cart(self):\n",
    "        print(\"Items in the shopping cart:\")\n",
    "        for item in self.items:\n",
    "            print(item)\n",
    "    def clear_cart(self):\n",
    "        self.items = []\n",
    "        print(\"Shopping cart cleared.\")\n",
    "cart = ShoppingCart()\n",
    "cart.add_item(\"Laptop\")\n",
    "cart.add_item(\"Headphones\")\n",
    "cart.add_item(\"Phone\")\n",
    "\n",
    "cart.view_cart()\n",
    "\n",
    "cart.remove_item(\"Headphones\")\n",
    "cart.view_cart()\n",
    "\n",
    "cart.clear_cart()\n",
    "cart.view_cart()\n",
    "\n"
   ]
  },
  {
   "cell_type": "code",
   "execution_count": 4,
   "id": "4321d406",
   "metadata": {},
   "outputs": [
    {
     "name": "stdout",
     "output_type": "stream",
     "text": [
      "Attendance for Alice on 2023-08-15 updated: present\n",
      "Attendance for Alice on 2023-08-16 updated: absent\n",
      "Attendance for Alice on 2023-08-17 updated: present\n",
      "{'2023-08-15': 'present', '2023-08-16': 'absent', '2023-08-17': 'present'}\n",
      "Average attendance for Alice: 66.67%\n"
     ]
    }
   ],
   "source": [
    "#10.\n",
    "class Student:\n",
    "    def __init__(self, name, age, grade, student_id):\n",
    "        self.name = name\n",
    "        self.age = age\n",
    "        self.grade = grade\n",
    "        self.student_id = student_id\n",
    "        self.attendance = {}\n",
    "    \n",
    "    def update_attendance(self, date, status):\n",
    "        self.attendance[date] = status\n",
    "        print(f\"Attendance for {self.name} on {date} updated: {status}\")\n",
    "    \n",
    "    def get_attendance(self):\n",
    "        return self.attendance\n",
    "    \n",
    "    def get_average_attendance(self):\n",
    "        if not self.attendance:\n",
    "            return 0.0\n",
    "        \n",
    "        total_days = len(self.attendance)\n",
    "        present_days = sum(status == \"present\" for status in self.attendance.values())\n",
    "        average_attendance = (present_days / total_days) * 100\n",
    "        return average_attendance\n",
    "\n",
    "student1 = Student(\"Alice\", 15, \"10th\", \"S101\")\n",
    "\n",
    "student1.update_attendance(\"2023-08-15\", \"present\")\n",
    "student1.update_attendance(\"2023-08-16\", \"absent\")\n",
    "student1.update_attendance(\"2023-08-17\", \"present\")\n",
    "\n",
    "print(student1.get_attendance())\n",
    "\n",
    "average_attendance = student1.get_average_attendance()\n",
    "print(f\"Average attendance for {student1.name}: {average_attendance:.2f}%\")\n"
   ]
  },
  {
   "cell_type": "code",
   "execution_count": null,
   "id": "53d4d790",
   "metadata": {},
   "outputs": [],
   "source": []
  }
 ],
 "metadata": {
  "kernelspec": {
   "display_name": "Python 3 (ipykernel)",
   "language": "python",
   "name": "python3"
  },
  "language_info": {
   "codemirror_mode": {
    "name": "ipython",
    "version": 3
   },
   "file_extension": ".py",
   "mimetype": "text/x-python",
   "name": "python",
   "nbconvert_exporter": "python",
   "pygments_lexer": "ipython3",
   "version": "3.11.3"
  }
 },
 "nbformat": 4,
 "nbformat_minor": 5
}
