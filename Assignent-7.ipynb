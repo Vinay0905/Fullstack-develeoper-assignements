{
 "cells": [
  {
   "cell_type": "code",
   "execution_count": 3,
   "id": "c233a554",
   "metadata": {},
   "outputs": [
    {
     "name": "stdout",
     "output_type": "stream",
     "text": [
      "5\n",
      "3\n",
      "First variable is 5 & second variable is 3.\n",
      "Addition: 5 + 3 = 8\n",
      "Subtraction: 5 - 3 = 2\n",
      "Multiplication: 5 * 3 = 15\n",
      "Division: 5 / 3 = 1.6666666666666667\n"
     ]
    }
   ],
   "source": [
    "num1 = int(input())\n",
    "num2 = int(input())\n",
    "\n",
    "add_result = num1 + num2\n",
    "sub_result = num1 - num2\n",
    "mul_result = num1 * num2\n",
    "div_result = num1 / num2\n",
    "\n",
    "print(f\"First variable is {num1} & second variable is {num2}.\")\n",
    "print(f\"Addition: {num1} + {num2} = {add_result}\")\n",
    "print(f\"Subtraction: {num1} - {num2} = {sub_result}\")\n",
    "print(f\"Multiplication: {num1} * {num2} = {mul_result}\")\n",
    "print(f\"Division: {num1} / {num2} = {div_result}\")\n"
   ]
  },
  {
   "cell_type": "code",
   "execution_count": null,
   "id": "c2cefce8",
   "metadata": {},
   "outputs": [],
   "source": [
    "#2.\n",
    "    /: Regular division, results in a floating-point number.\n",
    "    //: Floor division, results in an integer rounded down.\n",
    "    **: Exponentiation, raises a number to a power.\n",
    "    ^: Bitwise XOR, performs a bitwise XOR operation on integers' binary representations."
   ]
  },
  {
   "cell_type": "code",
   "execution_count": null,
   "id": "f85e19ac",
   "metadata": {},
   "outputs": [],
   "source": [
    "#3. \n",
    "    and: This operator returns True if both the operands are true, otherwise, it returns False.\n",
    "\n",
    "    or: This operator returns True if at least one of the operands is true, otherwise, it returns False.\n",
    "\n",
    "    not: This operator returns the opposite of the operands boolean value. If the operand is True, it returns False, and if the operand is False, it returns True.\n",
    "    "
   ]
  },
  {
   "cell_type": "code",
   "execution_count": 5,
   "id": "6e38fbf1",
   "metadata": {},
   "outputs": [
    {
     "name": "stdout",
     "output_type": "stream",
     "text": [
      "4\n",
      "12\n"
     ]
    }
   ],
   "source": [
    "#4.\n",
    "    #Right shift operaters:\n",
    "x = 16   \n",
    "y = 2\n",
    "result = x >> y  \n",
    "print(result)   \n",
    "\n",
    "    #Left shift operators:\n",
    "x = 3    \n",
    "y = 2\n",
    "result = x << y  \n",
    "print(result)   \n"
   ]
  },
  {
   "cell_type": "markdown",
   "id": "78f3a8d9",
   "metadata": {},
   "source": [
    " "
   ]
  },
  {
   "cell_type": "code",
   "execution_count": 6,
   "id": "46f9ebb6",
   "metadata": {},
   "outputs": [
    {
     "name": "stdout",
     "output_type": "stream",
     "text": [
      "10 is present in the list.\n"
     ]
    }
   ],
   "source": [
    "#5.\n",
    "int_list = [5, 8, 10, 15, 20, 25, 30, 35, 40, 45, 50, 55, 60, 65, 70]\n",
    "\n",
    "\n",
    "if 10 in int_list:\n",
    "    print(\"10 is present in the list.\")\n",
    "else:\n",
    "    print(\"10 is not present in the list.\")\n"
   ]
  },
  {
   "cell_type": "code",
   "execution_count": null,
   "id": "b9cf9212",
   "metadata": {},
   "outputs": [],
   "source": []
  }
 ],
 "metadata": {
  "kernelspec": {
   "display_name": "Python 3 (ipykernel)",
   "language": "python",
   "name": "python3"
  },
  "language_info": {
   "codemirror_mode": {
    "name": "ipython",
    "version": 3
   },
   "file_extension": ".py",
   "mimetype": "text/x-python",
   "name": "python",
   "nbconvert_exporter": "python",
   "pygments_lexer": "ipython3",
   "version": "3.11.3"
  }
 },
 "nbformat": 4,
 "nbformat_minor": 5
}
